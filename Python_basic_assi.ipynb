{
 "cells": [
  {
   "cell_type": "markdown",
   "id": "d18777b5-f631-46c0-b459-bd065ddbfb2b",
   "metadata": {},
   "source": [
    "#Answer 1"
   ]
  },
  {
   "cell_type": "code",
   "execution_count": 3,
   "id": "fe88ba8d-a742-430f-844b-1537c8d0aefb",
   "metadata": {},
   "outputs": [],
   "source": [
    "# 1. A variable name should be well defined\n",
    "# 2. Camelcasing should be followed.\n",
    "# 3. No space should be present between variables.\n",
    "# 4. No special character should be used.\n",
    "# 5. We can use underscore in our variables."
   ]
  },
  {
   "cell_type": "markdown",
   "id": "080f1ea2-82df-4305-8da5-fd49503a15ec",
   "metadata": {},
   "source": [
    "#Answer 2"
   ]
  },
  {
   "cell_type": "code",
   "execution_count": 5,
   "id": "37f05b22-b71e-4f91-b6eb-bd06cb31b306",
   "metadata": {},
   "outputs": [
    {
     "ename": "SyntaxError",
     "evalue": "invalid syntax (501861787.py, line 1)",
     "output_type": "error",
     "traceback": [
      "\u001b[0;36m  Cell \u001b[0;32mIn [5], line 1\u001b[0;36m\u001b[0m\n\u001b[0;31m    if = \"Hello\"\u001b[0m\n\u001b[0m       ^\u001b[0m\n\u001b[0;31mSyntaxError\u001b[0m\u001b[0;31m:\u001b[0m invalid syntax\n"
     ]
    }
   ],
   "source": [
    "if = \"Hello\""
   ]
  },
  {
   "cell_type": "code",
   "execution_count": 6,
   "id": "f83c399c-3d48-4e22-a1b8-ba80a20e8eb3",
   "metadata": {},
   "outputs": [],
   "source": [
    "# Show an error of invalid syntax"
   ]
  },
  {
   "cell_type": "markdown",
   "id": "5af17562-e18c-447f-9cd1-b7c77dfa5311",
   "metadata": {},
   "source": [
    "#Answer 3"
   ]
  },
  {
   "cell_type": "code",
   "execution_count": 7,
   "id": "a31c336a-f808-402c-acf2-497b5b3e0907",
   "metadata": {},
   "outputs": [
    {
     "ename": "SyntaxError",
     "evalue": "cannot assign to literal here. Maybe you meant '==' instead of '='? (3484573430.py, line 1)",
     "output_type": "error",
     "traceback": [
      "\u001b[0;36m  Cell \u001b[0;32mIn [7], line 1\u001b[0;36m\u001b[0m\n\u001b[0;31m    \"String\" = \"learning python\"\u001b[0m\n\u001b[0m    ^\u001b[0m\n\u001b[0;31mSyntaxError\u001b[0m\u001b[0;31m:\u001b[0m cannot assign to literal here. Maybe you meant '==' instead of '='?\n"
     ]
    }
   ],
   "source": [
    "\"String\" = \"learning python\""
   ]
  },
  {
   "cell_type": "code",
   "execution_count": 8,
   "id": "b10343a3-e692-40b9-bc1a-1a570af82cb5",
   "metadata": {},
   "outputs": [],
   "source": [
    "# no we cant use it"
   ]
  },
  {
   "cell_type": "markdown",
   "id": "5839575c-b2c5-4239-947e-5a2bd2a01183",
   "metadata": {},
   "source": [
    "#Answer 4 "
   ]
  },
  {
   "cell_type": "code",
   "execution_count": 9,
   "id": "5a96a7de-cdc2-462b-ba37-84ce0eb1d795",
   "metadata": {},
   "outputs": [],
   "source": [
    "# We can use _ to create a variable"
   ]
  },
  {
   "cell_type": "code",
   "execution_count": 10,
   "id": "53442df0-f5d5-468f-9ad3-ebbdfe603f44",
   "metadata": {},
   "outputs": [],
   "source": [
    "_Happy = \"good feeling\""
   ]
  },
  {
   "cell_type": "markdown",
   "id": "768acd91-3679-4550-8a54-6b1ee9529500",
   "metadata": {},
   "source": [
    "#Answer 5"
   ]
  },
  {
   "cell_type": "code",
   "execution_count": null,
   "id": "ed6ff4ca-19e2-4ccb-8be4-cd00543bd663",
   "metadata": {},
   "outputs": [],
   "source": [
    "# yes variables are dynamic in nature example given below  "
   ]
  },
  {
   "cell_type": "code",
   "execution_count": 11,
   "id": "cb18b8d2-349d-45fb-ac4c-bc824dd21dc9",
   "metadata": {},
   "outputs": [],
   "source": [
    "y = 5"
   ]
  },
  {
   "cell_type": "code",
   "execution_count": 12,
   "id": "7e0098ca-fe35-46a0-991c-37806f243104",
   "metadata": {},
   "outputs": [],
   "source": [
    "y = 8"
   ]
  },
  {
   "cell_type": "code",
   "execution_count": null,
   "id": "24a3d609-4771-45a4-8b37-abedae116fb5",
   "metadata": {},
   "outputs": [],
   "source": [
    "we are changing value o"
   ]
  }
 ],
 "metadata": {
  "kernelspec": {
   "display_name": "Python 3 (ipykernel)",
   "language": "python",
   "name": "python3"
  },
  "language_info": {
   "codemirror_mode": {
    "name": "ipython",
    "version": 3
   },
   "file_extension": ".py",
   "mimetype": "text/x-python",
   "name": "python",
   "nbconvert_exporter": "python",
   "pygments_lexer": "ipython3",
   "version": "3.10.6"
  }
 },
 "nbformat": 4,
 "nbformat_minor": 5
}
