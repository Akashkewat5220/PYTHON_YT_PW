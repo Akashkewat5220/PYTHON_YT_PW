{
 "cells": [
  {
   "cell_type": "code",
   "execution_count": 1,
   "id": "c1cac004-9c59-4523-b8f5-e8cf169122b8",
   "metadata": {},
   "outputs": [],
   "source": [
    "# 1"
   ]
  },
  {
   "cell_type": "code",
   "execution_count": 3,
   "id": "89b23928-c1f6-463e-a270-8d9e2e6dc19b",
   "metadata": {},
   "outputs": [],
   "source": [
    "# tuple is a data type which stores a data of different data types \n",
    "# inside the paranthesis"
   ]
  },
  {
   "cell_type": "markdown",
   "id": "62972414-3ba9-4f92-8526-3cab67cc6702",
   "metadata": {},
   "source": [
    "## 2"
   ]
  },
  {
   "cell_type": "code",
   "execution_count": 4,
   "id": "cf0396d9-c4cd-4a9c-b482-f2e5abcbadd6",
   "metadata": {},
   "outputs": [],
   "source": [
    "# To create a tuple in a python place the data inside the paranthesis\n",
    "# data should be well defined"
   ]
  },
  {
   "cell_type": "code",
   "execution_count": 5,
   "id": "f1d4fbd2-64f7-48c3-885c-1ba7c294ac80",
   "metadata": {},
   "outputs": [],
   "source": [
    "# 3"
   ]
  },
  {
   "cell_type": "code",
   "execution_count": 6,
   "id": "59ffd959-ffe2-466f-883b-b4ef04032f02",
   "metadata": {},
   "outputs": [],
   "source": [
    "list = [123,2,3,'happy']"
   ]
  },
  {
   "cell_type": "code",
   "execution_count": 7,
   "id": "8ca6e9c5-497e-40cb-a1b1-6c127b511078",
   "metadata": {},
   "outputs": [],
   "source": [
    "tuples = (1,2,3,'happy')"
   ]
  },
  {
   "cell_type": "code",
   "execution_count": 8,
   "id": "79f39144-a769-4cc0-b918-189694aa9613",
   "metadata": {},
   "outputs": [],
   "source": [
    "# tuple data are placed inside a paranthesis.List are mutable and \n",
    "# tuples are immutable"
   ]
  },
  {
   "cell_type": "code",
   "execution_count": 9,
   "id": "88dc8583-dc80-48a4-b87a-0796f2849ed1",
   "metadata": {},
   "outputs": [],
   "source": [
    "# 4"
   ]
  },
  {
   "cell_type": "code",
   "execution_count": null,
   "id": "74b87dba-e7ac-4365-ac86-11405171bb9e",
   "metadata": {},
   "outputs": [],
   "source": [
    "# Once a tuple is created, you cannot change its values. Tuples are unchangeable, or immutable as it also is called."
   ]
  },
  {
   "cell_type": "code",
   "execution_count": null,
   "id": "2e8b8185-0d07-4ca1-a071-617e88ea3c0f",
   "metadata": {},
   "outputs": [],
   "source": [
    "# 5"
   ]
  },
  {
   "cell_type": "code",
   "execution_count": 13,
   "id": "b5425b58-8c2d-4f77-8427-dfe534024907",
   "metadata": {},
   "outputs": [
    {
     "data": {
      "text/plain": [
       "1"
      ]
     },
     "execution_count": 13,
     "metadata": {},
     "output_type": "execute_result"
    }
   ],
   "source": [
    "tuples[0]"
   ]
  },
  {
   "cell_type": "code",
   "execution_count": 14,
   "id": "2b230d3a-28f0-494b-bb7b-342514efcadc",
   "metadata": {},
   "outputs": [],
   "source": [
    "# We can access it by the use of indexing"
   ]
  },
  {
   "cell_type": "code",
   "execution_count": 15,
   "id": "5b6f81f2-af02-4b8c-82cb-931253ea839b",
   "metadata": {},
   "outputs": [],
   "source": [
    "# 6"
   ]
  },
  {
   "cell_type": "code",
   "execution_count": null,
   "id": "c576b441-6a40-4fef-aa4e-75d590b1b4d1",
   "metadata": {},
   "outputs": [],
   "source": []
  }
 ],
 "metadata": {
  "kernelspec": {
   "display_name": "Python 3 (ipykernel)",
   "language": "python",
   "name": "python3"
  },
  "language_info": {
   "codemirror_mode": {
    "name": "ipython",
    "version": 3
   },
   "file_extension": ".py",
   "mimetype": "text/x-python",
   "name": "python",
   "nbconvert_exporter": "python",
   "pygments_lexer": "ipython3",
   "version": "3.10.6"
  }
 },
 "nbformat": 4,
 "nbformat_minor": 5
}
