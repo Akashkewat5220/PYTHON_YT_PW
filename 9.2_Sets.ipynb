{
 "cells": [
  {
   "cell_type": "code",
   "execution_count": 1,
   "id": "2993d635-b8de-4773-9683-c6e45f6add75",
   "metadata": {},
   "outputs": [],
   "source": [
    "# 1"
   ]
  },
  {
   "cell_type": "code",
   "execution_count": 2,
   "id": "075dd1f6-3517-45e6-807d-8e291031340e",
   "metadata": {},
   "outputs": [],
   "source": [
    "a = {}"
   ]
  },
  {
   "cell_type": "code",
   "execution_count": 3,
   "id": "5d772d23-9d35-42ad-a40e-b61231e006c1",
   "metadata": {},
   "outputs": [
    {
     "data": {
      "text/plain": [
       "dict"
      ]
     },
     "execution_count": 3,
     "metadata": {},
     "output_type": "execute_result"
    }
   ],
   "source": [
    "type(a)"
   ]
  },
  {
   "cell_type": "code",
   "execution_count": 4,
   "id": "700c5314-ea8c-407e-be89-c6c5486cde4f",
   "metadata": {},
   "outputs": [],
   "source": [
    "a = {'happy' , 'bad'}"
   ]
  },
  {
   "cell_type": "code",
   "execution_count": 5,
   "id": "31a163d2-c1d0-4764-9483-ba4d53664991",
   "metadata": {},
   "outputs": [
    {
     "data": {
      "text/plain": [
       "set"
      ]
     },
     "execution_count": 5,
     "metadata": {},
     "output_type": "execute_result"
    }
   ],
   "source": [
    "type(a)"
   ]
  },
  {
   "cell_type": "code",
   "execution_count": 6,
   "id": "e4e1f6d8-cd42-4cae-8c24-03114c976d40",
   "metadata": {},
   "outputs": [],
   "source": [
    "# set is a collection of data which stores many data in it. an empty \n",
    "# set is called as dictionary."
   ]
  },
  {
   "cell_type": "code",
   "execution_count": 7,
   "id": "86e6621e-5df3-4d8f-a237-7d6e9a268524",
   "metadata": {},
   "outputs": [],
   "source": [
    "# 2"
   ]
  },
  {
   "cell_type": "code",
   "execution_count": 8,
   "id": "5db14740-1037-456c-9372-0fcda9cf599e",
   "metadata": {},
   "outputs": [],
   "source": [
    "a = {'happy' , 123}"
   ]
  },
  {
   "cell_type": "code",
   "execution_count": 9,
   "id": "013c9374-18ed-4d9b-9260-a7af914fb221",
   "metadata": {},
   "outputs": [],
   "source": [
    "# To create a set in a python we have to define a variable which stores different data types\n",
    "# and enclosed by the curly brackets"
   ]
  },
  {
   "cell_type": "code",
   "execution_count": 10,
   "id": "d42d60d6-567f-4fb9-a2b4-ebe512352594",
   "metadata": {},
   "outputs": [],
   "source": [
    "# 3"
   ]
  },
  {
   "cell_type": "code",
   "execution_count": 11,
   "id": "0461ff2e-90e9-446a-b32d-19ce6b692f32",
   "metadata": {},
   "outputs": [],
   "source": [
    "# An empty set is a dictionary. To add elements in set simply place it inside the \n",
    "# curly brackets by proper use of datatypes."
   ]
  },
  {
   "cell_type": "code",
   "execution_count": 12,
   "id": "90f0b1d9-9853-4fa7-95c0-152b29a03a4f",
   "metadata": {},
   "outputs": [],
   "source": [
    "# 4"
   ]
  },
  {
   "cell_type": "code",
   "execution_count": 13,
   "id": "1ebe29c4-9b5d-47cb-a6cd-8c993962c27a",
   "metadata": {},
   "outputs": [],
   "source": [
    "# We can simply remove the by the use of remove and discard keywords"
   ]
  },
  {
   "cell_type": "code",
   "execution_count": 19,
   "id": "453d2659-c631-46dd-a0ec-cc14c1ae8b50",
   "metadata": {},
   "outputs": [],
   "source": [
    "a.remove(123)"
   ]
  },
  {
   "cell_type": "code",
   "execution_count": 20,
   "id": "8d4dcbfd-ef2e-4c92-8f5c-a89365de9032",
   "metadata": {},
   "outputs": [
    {
     "data": {
      "text/plain": [
       "{'happy'}"
      ]
     },
     "execution_count": 20,
     "metadata": {},
     "output_type": "execute_result"
    }
   ],
   "source": [
    "a"
   ]
  },
  {
   "cell_type": "code",
   "execution_count": 22,
   "id": "3936ede4-556d-4c5b-b666-f0a4f113bd44",
   "metadata": {},
   "outputs": [],
   "source": [
    "# here 123 is removed by use of remove "
   ]
  },
  {
   "cell_type": "code",
   "execution_count": 25,
   "id": "ec02a83c-91da-49e5-b699-280398d7b363",
   "metadata": {},
   "outputs": [
    {
     "data": {
      "text/plain": [
       "1"
      ]
     },
     "execution_count": 25,
     "metadata": {},
     "output_type": "execute_result"
    }
   ],
   "source": [
    "len(a)"
   ]
  },
  {
   "cell_type": "code",
   "execution_count": null,
   "id": "a75b5c2f-a7d3-4bce-a3bc-bf1c82cba78a",
   "metadata": {},
   "outputs": [],
   "source": [
    "# by use of len keyword"
   ]
  }
 ],
 "metadata": {
  "kernelspec": {
   "display_name": "Python 3 (ipykernel)",
   "language": "python",
   "name": "python3"
  },
  "language_info": {
   "codemirror_mode": {
    "name": "ipython",
    "version": 3
   },
   "file_extension": ".py",
   "mimetype": "text/x-python",
   "name": "python",
   "nbconvert_exporter": "python",
   "pygments_lexer": "ipython3",
   "version": "3.10.6"
  }
 },
 "nbformat": 4,
 "nbformat_minor": 5
}
