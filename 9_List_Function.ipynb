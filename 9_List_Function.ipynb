{
 "cells": [
  {
   "cell_type": "code",
   "execution_count": 1,
   "id": "3721a618-3823-4737-b2d7-0dd99087caae",
   "metadata": {},
   "outputs": [],
   "source": [
    "# Answer 1"
   ]
  },
  {
   "cell_type": "code",
   "execution_count": 2,
   "id": "3970cb35-4c82-4fbf-a8d7-41395230cdfa",
   "metadata": {},
   "outputs": [],
   "source": [
    "l = [1,2,3,5,6]"
   ]
  },
  {
   "cell_type": "code",
   "execution_count": 4,
   "id": "b5c5c68d-58f7-4b6a-851a-28475ac81b90",
   "metadata": {},
   "outputs": [],
   "source": [
    "l.append(9)"
   ]
  },
  {
   "cell_type": "code",
   "execution_count": 5,
   "id": "9aead316-daa3-468d-81fd-c7b1246fef56",
   "metadata": {},
   "outputs": [
    {
     "data": {
      "text/plain": [
       "[1, 2, 3, 5, 6, 9]"
      ]
     },
     "execution_count": 5,
     "metadata": {},
     "output_type": "execute_result"
    }
   ],
   "source": [
    "l"
   ]
  },
  {
   "cell_type": "code",
   "execution_count": 6,
   "id": "add37f86-0228-4de6-a140-4b6a7892f083",
   "metadata": {},
   "outputs": [],
   "source": [
    "# we use append function to add an element in an list"
   ]
  },
  {
   "cell_type": "code",
   "execution_count": null,
   "id": "ba393c50-405c-4439-9a0e-211dadd778e5",
   "metadata": {},
   "outputs": [],
   "source": []
  },
  {
   "cell_type": "code",
   "execution_count": 7,
   "id": "1f52764c-341e-4120-b9e1-8027c936a70c",
   "metadata": {},
   "outputs": [],
   "source": [
    "# Answer 2"
   ]
  },
  {
   "cell_type": "code",
   "execution_count": 8,
   "id": "152bbfe4-d480-41c5-8539-c37801e33bfe",
   "metadata": {},
   "outputs": [],
   "source": [
    "l.remove(2)"
   ]
  },
  {
   "cell_type": "code",
   "execution_count": 9,
   "id": "a382d5f8-bf83-4caa-9e6f-d923d3d2ec67",
   "metadata": {},
   "outputs": [
    {
     "data": {
      "text/plain": [
       "[1, 3, 5, 6, 9]"
      ]
     },
     "execution_count": 9,
     "metadata": {},
     "output_type": "execute_result"
    }
   ],
   "source": [
    "l"
   ]
  },
  {
   "cell_type": "code",
   "execution_count": 10,
   "id": "e36a1f04-2fbc-41b5-9d9f-a8e37fd347ef",
   "metadata": {},
   "outputs": [
    {
     "data": {
      "text/plain": [
       "9"
      ]
     },
     "execution_count": 10,
     "metadata": {},
     "output_type": "execute_result"
    }
   ],
   "source": [
    "l.pop()"
   ]
  },
  {
   "cell_type": "code",
   "execution_count": 11,
   "id": "56fdc6ed-5e2b-440b-8eae-830e7c1aefa1",
   "metadata": {},
   "outputs": [],
   "source": [
    "# remove function removes element by an specific index or by putting element while pop removes\n",
    "# element from last"
   ]
  },
  {
   "cell_type": "code",
   "execution_count": null,
   "id": "212f3851-d1c5-40c2-b715-a0d8a973ce8b",
   "metadata": {},
   "outputs": [],
   "source": []
  },
  {
   "cell_type": "code",
   "execution_count": 12,
   "id": "722dd243-8e36-40c7-b5b1-b0375f836f9d",
   "metadata": {},
   "outputs": [],
   "source": [
    "# Answer 3"
   ]
  },
  {
   "cell_type": "code",
   "execution_count": 17,
   "id": "9c75eeb6-f388-4606-a809-4e22c6120969",
   "metadata": {},
   "outputs": [],
   "source": [
    "l.sort()"
   ]
  },
  {
   "cell_type": "code",
   "execution_count": 15,
   "id": "72f7face-35cb-4d4c-ab66-827113bdb043",
   "metadata": {},
   "outputs": [
    {
     "data": {
      "text/plain": [
       "[1, 3, 5, 6]"
      ]
     },
     "execution_count": 15,
     "metadata": {},
     "output_type": "execute_result"
    }
   ],
   "source": [
    "l"
   ]
  },
  {
   "cell_type": "code",
   "execution_count": 18,
   "id": "2ebc5ef6-e52c-4964-9745-8dede721f5e1",
   "metadata": {},
   "outputs": [],
   "source": [
    "l.reverse()"
   ]
  },
  {
   "cell_type": "code",
   "execution_count": 19,
   "id": "80db292a-cd29-4895-b46f-6c4b5928bc00",
   "metadata": {},
   "outputs": [
    {
     "data": {
      "text/plain": [
       "[6, 5, 3, 1]"
      ]
     },
     "execution_count": 19,
     "metadata": {},
     "output_type": "execute_result"
    }
   ],
   "source": [
    "l"
   ]
  },
  {
   "cell_type": "code",
   "execution_count": 20,
   "id": "7629df70-0775-46ca-88fd-976db927798e",
   "metadata": {},
   "outputs": [],
   "source": [
    "#  arrenged in descending"
   ]
  },
  {
   "cell_type": "code",
   "execution_count": null,
   "id": "2e1e75fd-b78b-419f-b7fe-d8fb7bc4fb68",
   "metadata": {},
   "outputs": [],
   "source": []
  },
  {
   "cell_type": "code",
   "execution_count": 21,
   "id": "ae074dab-3833-4464-ae55-68ad56a24c17",
   "metadata": {},
   "outputs": [],
   "source": [
    "# Answer 4"
   ]
  },
  {
   "cell_type": "code",
   "execution_count": 24,
   "id": "45d4af1b-5ef2-449e-9f55-5baaf0b123e6",
   "metadata": {},
   "outputs": [
    {
     "data": {
      "text/plain": [
       "1"
      ]
     },
     "execution_count": 24,
     "metadata": {},
     "output_type": "execute_result"
    }
   ],
   "source": [
    "l.count(6)"
   ]
  },
  {
   "cell_type": "code",
   "execution_count": 25,
   "id": "f3a11062-cfdc-4817-956b-7845e84a501e",
   "metadata": {},
   "outputs": [],
   "source": [
    "# occurence of a 6 in the list is 1"
   ]
  },
  {
   "cell_type": "code",
   "execution_count": null,
   "id": "31ab9321-bd5b-41d8-a33a-18ad4f7ba6d7",
   "metadata": {},
   "outputs": [],
   "source": []
  },
  {
   "cell_type": "code",
   "execution_count": 26,
   "id": "3dd9ffce-337b-40dd-9f67-4d6e010b2f41",
   "metadata": {},
   "outputs": [],
   "source": [
    "# Answer 5"
   ]
  },
  {
   "cell_type": "code",
   "execution_count": 27,
   "id": "0da2e966-058b-4cfa-b9a7-25c57e110735",
   "metadata": {},
   "outputs": [],
   "source": [
    "# python code to reverse a list is given below"
   ]
  },
  {
   "cell_type": "code",
   "execution_count": 28,
   "id": "79aab6df-4bb4-44a6-8905-b3212bbe183d",
   "metadata": {},
   "outputs": [],
   "source": [
    "l1 = [1,2,3,3,6,58]"
   ]
  },
  {
   "cell_type": "code",
   "execution_count": null,
   "id": "3bb4e347-c65a-48ab-b4b4-c5d9a2c97d74",
   "metadata": {},
   "outputs": [],
   "source": [
    "l1.reverse"
   ]
  }
 ],
 "metadata": {
  "kernelspec": {
   "display_name": "Python 3 (ipykernel)",
   "language": "python",
   "name": "python3"
  },
  "language_info": {
   "codemirror_mode": {
    "name": "ipython",
    "version": 3
   },
   "file_extension": ".py",
   "mimetype": "text/x-python",
   "name": "python",
   "nbconvert_exporter": "python",
   "pygments_lexer": "ipython3",
   "version": "3.10.6"
  }
 },
 "nbformat": 4,
 "nbformat_minor": 5
}
