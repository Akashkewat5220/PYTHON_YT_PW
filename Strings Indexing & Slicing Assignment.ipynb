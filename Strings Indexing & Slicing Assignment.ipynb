{
 "cells": [
  {
   "cell_type": "markdown",
   "id": "82ddcb33-7d48-47e0-b1ff-0ca748d1d682",
   "metadata": {},
   "source": [
    "Question 1"
   ]
  },
  {
   "cell_type": "code",
   "execution_count": 1,
   "id": "e70bc655-50d7-4e8c-800c-0d877837e5fc",
   "metadata": {},
   "outputs": [],
   "source": [
    "Str = ''"
   ]
  },
  {
   "cell_type": "code",
   "execution_count": 2,
   "id": "7a0219e7-84ff-41ad-a2de-d1fdbc2ca282",
   "metadata": {},
   "outputs": [],
   "source": [
    "# By not storing anythhing in a variable"
   ]
  },
  {
   "cell_type": "markdown",
   "id": "754437a5-d1bd-41a5-a90e-67db57ae2b38",
   "metadata": {},
   "source": [
    "Question 2"
   ]
  },
  {
   "cell_type": "code",
   "execution_count": 3,
   "id": "83e3a12f-be0d-4f51-beaf-57faa7868bae",
   "metadata": {},
   "outputs": [],
   "source": [
    "x  = 'a'"
   ]
  },
  {
   "cell_type": "code",
   "execution_count": 5,
   "id": "9e234308-d799-4dd1-a7d9-e419d0f8154d",
   "metadata": {},
   "outputs": [
    {
     "data": {
      "text/plain": [
       "str"
      ]
     },
     "execution_count": 5,
     "metadata": {},
     "output_type": "execute_result"
    }
   ],
   "source": [
    "type(x)"
   ]
  },
  {
   "cell_type": "code",
   "execution_count": 6,
   "id": "bb086127-4e9b-43aa-b5b9-60efe7810ff7",
   "metadata": {},
   "outputs": [],
   "source": [
    "# Because we have enclosed a inside a quotes which an string"
   ]
  },
  {
   "cell_type": "markdown",
   "id": "8348bec3-ff58-4aad-a382-741c5f7e91cc",
   "metadata": {},
   "source": [
    "Question 3"
   ]
  },
  {
   "cell_type": "code",
   "execution_count": 9,
   "id": "c4b145ef-ae75-4822-8d26-51078f912afe",
   "metadata": {},
   "outputs": [],
   "source": [
    "x = 'Welcome to Python founation course'"
   ]
  },
  {
   "cell_type": "code",
   "execution_count": 13,
   "id": "a821ac4e-8268-4ae6-bd00-cd6cb354b786",
   "metadata": {},
   "outputs": [
    {
     "data": {
      "text/plain": [
       "18"
      ]
     },
     "execution_count": 13,
     "metadata": {},
     "output_type": "execute_result"
    }
   ],
   "source": [
    "x.find('f')"
   ]
  },
  {
   "cell_type": "code",
   "execution_count": 14,
   "id": "46a3ec5d-22dd-4598-b4e6-e62e83b3e376",
   "metadata": {},
   "outputs": [
    {
     "data": {
      "text/plain": [
       "1"
      ]
     },
     "execution_count": 14,
     "metadata": {},
     "output_type": "execute_result"
    }
   ],
   "source": [
    "x.count('f')"
   ]
  },
  {
   "cell_type": "code",
   "execution_count": 16,
   "id": "e9084579-4c67-41a2-9e7c-33ec64658826",
   "metadata": {},
   "outputs": [
    {
     "data": {
      "text/plain": [
       "34"
      ]
     },
     "execution_count": 16,
     "metadata": {},
     "output_type": "execute_result"
    }
   ],
   "source": [
    "len(x)"
   ]
  },
  {
   "cell_type": "code",
   "execution_count": 18,
   "id": "76ba2f2a-16cb-43f1-a786-0824a79eae69",
   "metadata": {},
   "outputs": [
    {
     "data": {
      "text/plain": [
       "'Welcome to Python founation course Learning Python '"
      ]
     },
     "execution_count": 18,
     "metadata": {},
     "output_type": "execute_result"
    }
   ],
   "source": [
    "x + ' Learning Python '"
   ]
  },
  {
   "cell_type": "markdown",
   "id": "6a3f29db-389c-457c-b82f-882024232681",
   "metadata": {},
   "source": [
    "Question 4"
   ]
  },
  {
   "cell_type": "code",
   "execution_count": 20,
   "id": "4db5b783-36b4-49ca-baa2-a2dc6a624ce5",
   "metadata": {},
   "outputs": [],
   "source": [
    "word = 'PanaJi@12256'"
   ]
  },
  {
   "cell_type": "code",
   "execution_count": 21,
   "id": "df97d2d8-d746-4fb4-ad4c-02e4112bd916",
   "metadata": {},
   "outputs": [
    {
     "ename": "NameError",
     "evalue": "name 'lower' is not defined",
     "output_type": "error",
     "traceback": [
      "\u001b[0;31m---------------------------------------------------------------------------\u001b[0m",
      "\u001b[0;31mNameError\u001b[0m                                 Traceback (most recent call last)",
      "Cell \u001b[0;32mIn [21], line 1\u001b[0m\n\u001b[0;32m----> 1\u001b[0m word\u001b[38;5;241m.\u001b[39mcount(\u001b[43mlower\u001b[49m(word))\n",
      "\u001b[0;31mNameError\u001b[0m: name 'lower' is not defined"
     ]
    }
   ],
   "source": [
    "word.count((word))"
   ]
  },
  {
   "cell_type": "code",
   "execution_count": null,
   "id": "9ec191a5-4a16-459e-83c6-5c3a6c1cccf2",
   "metadata": {},
   "outputs": [],
   "source": []
  }
 ],
 "metadata": {
  "kernelspec": {
   "display_name": "Python 3 (ipykernel)",
   "language": "python",
   "name": "python3"
  },
  "language_info": {
   "codemirror_mode": {
    "name": "ipython",
    "version": 3
   },
   "file_extension": ".py",
   "mimetype": "text/x-python",
   "name": "python",
   "nbconvert_exporter": "python",
   "pygments_lexer": "ipython3",
   "version": "3.10.6"
  }
 },
 "nbformat": 4,
 "nbformat_minor": 5
}
