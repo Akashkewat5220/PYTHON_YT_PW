{
 "cells": [
  {
   "cell_type": "code",
   "execution_count": 2,
   "id": "72fbdb8e-d998-4352-8cbb-94337753173e",
   "metadata": {},
   "outputs": [],
   "source": [
    "# Answer 1"
   ]
  },
  {
   "cell_type": "code",
   "execution_count": 7,
   "id": "982afb8a-7754-4b21-ac04-c4afc1717847",
   "metadata": {},
   "outputs": [],
   "source": [
    "l = []"
   ]
  },
  {
   "cell_type": "code",
   "execution_count": 12,
   "id": "7f0d017f-54b0-4b5f-9280-640e9f82423a",
   "metadata": {},
   "outputs": [],
   "source": [
    "# Answer 2"
   ]
  },
  {
   "cell_type": "code",
   "execution_count": 13,
   "id": "6694d416-efb9-4e17-a0f6-41423e1fd0af",
   "metadata": {},
   "outputs": [],
   "source": [
    "l1 = [1,2,3,4]"
   ]
  },
  {
   "cell_type": "code",
   "execution_count": 17,
   "id": "55329df3-8cf9-4d72-a6bb-2cb50529cf99",
   "metadata": {},
   "outputs": [],
   "source": [
    "l1.append(5)"
   ]
  },
  {
   "cell_type": "code",
   "execution_count": 18,
   "id": "5e8f6d2b-1aec-4410-89f0-63e108fd7e51",
   "metadata": {},
   "outputs": [
    {
     "data": {
      "text/plain": [
       "[1, 2, 3, 4, 5]"
      ]
     },
     "execution_count": 18,
     "metadata": {},
     "output_type": "execute_result"
    }
   ],
   "source": [
    "l1"
   ]
  },
  {
   "cell_type": "code",
   "execution_count": 11,
   "id": "85df56df-47e0-498d-83bd-657e14acef84",
   "metadata": {},
   "outputs": [],
   "source": [
    "# Answer 3"
   ]
  },
  {
   "cell_type": "code",
   "execution_count": 19,
   "id": "6007514b-3513-42aa-aca8-c6c4871b59a5",
   "metadata": {},
   "outputs": [
    {
     "data": {
      "text/plain": [
       "5"
      ]
     },
     "execution_count": 19,
     "metadata": {},
     "output_type": "execute_result"
    }
   ],
   "source": [
    "l1[4]"
   ]
  },
  {
   "cell_type": "code",
   "execution_count": 20,
   "id": "3fd7565c-b1bd-4cd9-9860-cddfafb4df1e",
   "metadata": {},
   "outputs": [],
   "source": [
    "# Answer 4"
   ]
  },
  {
   "cell_type": "code",
   "execution_count": 21,
   "id": "e80cf3fc-547e-40e2-928a-c28b46edf32c",
   "metadata": {},
   "outputs": [],
   "source": [
    "l1.reverse()"
   ]
  },
  {
   "cell_type": "code",
   "execution_count": 22,
   "id": "0ff64eda-9042-4dae-827c-12a7b4719e83",
   "metadata": {},
   "outputs": [
    {
     "data": {
      "text/plain": [
       "[5, 4, 3, 2, 1]"
      ]
     },
     "execution_count": 22,
     "metadata": {},
     "output_type": "execute_result"
    }
   ],
   "source": [
    "l1"
   ]
  },
  {
   "cell_type": "code",
   "execution_count": 23,
   "id": "c05fc285-7a88-48f2-bc0c-156addbc8d77",
   "metadata": {},
   "outputs": [],
   "source": [
    "# Answer 5"
   ]
  },
  {
   "cell_type": "code",
   "execution_count": 24,
   "id": "7db9e265-404c-497f-86b4-137c3eecd311",
   "metadata": {},
   "outputs": [],
   "source": [
    "l1.sort()"
   ]
  },
  {
   "cell_type": "code",
   "execution_count": 25,
   "id": "7ee84f2d-ecbc-41ac-bede-300dd857d4ee",
   "metadata": {},
   "outputs": [
    {
     "data": {
      "text/plain": [
       "[1, 2, 3, 4, 5]"
      ]
     },
     "execution_count": 25,
     "metadata": {},
     "output_type": "execute_result"
    }
   ],
   "source": [
    "l1"
   ]
  },
  {
   "cell_type": "code",
   "execution_count": 26,
   "id": "1e6040a0-94f1-4be0-b59e-fb03e9f25848",
   "metadata": {},
   "outputs": [],
   "source": [
    "# Sort arranges the element in  an ascending order"
   ]
  },
  {
   "cell_type": "code",
   "execution_count": 27,
   "id": "0845307c-82f3-4987-86ba-d880b5f2f962",
   "metadata": {},
   "outputs": [],
   "source": [
    "# Answer 6"
   ]
  },
  {
   "cell_type": "code",
   "execution_count": 28,
   "id": "936176c0-0bed-4103-a326-f4bb79130efb",
   "metadata": {},
   "outputs": [],
   "source": [
    "movies = ['Dashing detective' , 'Avengers the end game' , 'pushpa']"
   ]
  },
  {
   "cell_type": "code",
   "execution_count": 29,
   "id": "845606a0-6576-4d51-a391-b0964ba0aab4",
   "metadata": {},
   "outputs": [
    {
     "data": {
      "text/plain": [
       "'Avengers the end game'"
      ]
     },
     "execution_count": 29,
     "metadata": {},
     "output_type": "execute_result"
    }
   ],
   "source": [
    "movies[1]"
   ]
  },
  {
   "cell_type": "code",
   "execution_count": 30,
   "id": "800ba1bf-49d4-42ae-8b7a-c05d177fa267",
   "metadata": {},
   "outputs": [],
   "source": [
    "# Answer 7"
   ]
  },
  {
   "cell_type": "code",
   "execution_count": 31,
   "id": "6f58d9a1-1468-447f-84b6-9a50a0a37491",
   "metadata": {},
   "outputs": [],
   "source": [
    "Animals = ['Lion' , 'Tiger' , 'Monkey' , 'Donkey' ] "
   ]
  },
  {
   "cell_type": "code",
   "execution_count": 33,
   "id": "ad825720-73d5-45f7-b7d0-9ea10d201dc9",
   "metadata": {},
   "outputs": [],
   "source": [
    "Animals.insert(2 , 'Mouse')"
   ]
  },
  {
   "cell_type": "code",
   "execution_count": 34,
   "id": "9349b893-0db1-4b7a-852a-0cbf81e5003e",
   "metadata": {},
   "outputs": [
    {
     "data": {
      "text/plain": [
       "['Lion', 'Tiger', 'Mouse', 'Monkey', 'Donkey']"
      ]
     },
     "execution_count": 34,
     "metadata": {},
     "output_type": "execute_result"
    }
   ],
   "source": [
    "Animals"
   ]
  },
  {
   "cell_type": "code",
   "execution_count": 35,
   "id": "4f004015-24de-405b-a74a-c8e5d2466a6c",
   "metadata": {},
   "outputs": [],
   "source": [
    "# Answer 8"
   ]
  },
  {
   "cell_type": "code",
   "execution_count": null,
   "id": "fa1f883f-9328-41fc-b9cf-816a9c3e8878",
   "metadata": {},
   "outputs": [],
   "source": [
    "Cities = ['Bhopal' , 'Satna' , 'Jabalpur' , 'Rewa']"
   ]
  }
 ],
 "metadata": {
  "kernelspec": {
   "display_name": "Python 3 (ipykernel)",
   "language": "python",
   "name": "python3"
  },
  "language_info": {
   "codemirror_mode": {
    "name": "ipython",
    "version": 3
   },
   "file_extension": ".py",
   "mimetype": "text/x-python",
   "name": "python",
   "nbconvert_exporter": "python",
   "pygments_lexer": "ipython3",
   "version": "3.10.6"
  }
 },
 "nbformat": 4,
 "nbformat_minor": 5
}
